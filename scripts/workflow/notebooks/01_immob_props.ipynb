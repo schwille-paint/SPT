{
 "cells": [
  {
   "cell_type": "markdown",
   "metadata": {},
   "source": [
    "# From *_picked.hdf5 to kinetic properties for immobile particles\n",
    "This notebook will run ... \n",
    "* spt.immobile_props.main()\n",
    "\n",
    "This notebook extracts the kinetics properties in the immobilized case (TPP,...). We will therefore:\n",
    "1. Define the full paths to the *_picked.hdf5 files\n",
    "2. Set the execution parameters\n",
    "3. Connect or start a local dask parallel computing cluster\n",
    "4. Run improps.main() for all defined datasets\n",
    "\n",
    "As a result a file with extension *_tprops.hdf5 will be created in the same folder as the *_picked.hdf5 file"
   ]
  },
  {
   "cell_type": "code",
   "execution_count": 5,
   "metadata": {},
   "outputs": [],
   "source": [
    "import os\n",
    "import sys\n",
    "import traceback\n",
    "import importlib\n",
    "from dask.distributed import Client\n",
    "import multiprocessing as mp\n",
    "\n",
    "import picasso_addon.io as addon_io\n",
    "import spt.immobile_props as improps"
   ]
  },
  {
   "cell_type": "markdown",
   "metadata": {},
   "source": [
    "### 1. Define the full paths to the *_picked.hdf5 files"
   ]
  },
  {
   "cell_type": "code",
   "execution_count": 2,
   "metadata": {},
   "outputs": [],
   "source": [
    "dir_names=[]\n",
    "dir_names.extend([r'C:\\Data\\p06.SP-tracking\\20-01-17_fix_slb_L_T21\\id140_L_exp200_p114uW_T21_1'])\n",
    "\n",
    "file_names=[]\n",
    "file_names.extend(['id140_L_exp200_p114uW_T21_1_MMStack_Pos2.ome_locs_render_picked.hdf5'])"
   ]
  },
  {
   "cell_type": "markdown",
   "metadata": {},
   "source": [
    "### 2. Set the execution parameters"
   ]
  },
  {
   "cell_type": "code",
   "execution_count": 3,
   "metadata": {},
   "outputs": [],
   "source": [
    "### Valid for all evaluations\n",
    "params_all={'filter':'fix'}\n",
    "\n",
    "## Exceptions\n",
    "params_special={}"
   ]
  },
  {
   "cell_type": "markdown",
   "metadata": {},
   "source": [
    "To check for all possible parameters run `help(improps.main)`. If not stated otherwise standard values are used (indicated in brackets)."
   ]
  },
  {
   "cell_type": "code",
   "execution_count": 7,
   "metadata": {},
   "outputs": [
    {
     "name": "stdout",
     "output_type": "stream",
     "text": [
      "Help on function main in module spt.immobile_props:\n",
      "\n",
      "main(locs, info, path, **params)\n",
      "    Cluster detection (pick) in localization list by thresholding in number of localizations per cluster.\n",
      "    Cluster centers are determined by creating images of localization list with set oversampling.\n",
      "    \n",
      "    \n",
      "    args:\n",
      "        locs(pd.Dataframe):        Picked localizations as created by picasso render\n",
      "        info(list(dict)):          Info to picked localizations\n",
      "        path(str):                 Path to _picked.hdf5 file.\n",
      "        \n",
      "    **kwargs: If not explicitly specified set to default, also when specified as None\n",
      "        ignore(int=1):             Ignore value for bright frame\n",
      "        parallel(bool=True):       Apply parallel computing using dask? \n",
      "                                   Dask cluster should be set up and running for best performance!\n",
      "        filter(string='paint'):    Which filter to use, either None, 'paint' or 'fix'\n",
      "        save_picked(bool=False):   If true _picked file containing just groups that passed filter will be saved under _picked_valid\n",
      "    \n",
      "    return:\n",
      "        list[0](dict):             Dict of **kwargs passed to function.\n",
      "        list[1](pandas.DataFrame): Kinetic properties of all groups.\n",
      "                                   Will be saved with extension '_picked_tprops.hdf5' for usage in picasso.filter\n",
      "\n"
     ]
    }
   ],
   "source": [
    "help(improps.main)"
   ]
  },
  {
   "cell_type": "markdown",
   "metadata": {},
   "source": [
    "### 3. Connect or start a local dask parallel computing cluster\n",
    "This is only necessary if you want to use parallel computing (standard). If not set `params_all={'parallel':False}`"
   ]
  },
  {
   "cell_type": "code",
   "execution_count": 9,
   "metadata": {
    "collapsed": true,
    "jupyter": {
     "outputs_hidden": true
    }
   },
   "outputs": [
    {
     "name": "stdout",
     "output_type": "stream",
     "text": [
      "Connecting to existing cluster...\n"
     ]
    }
   ],
   "source": [
    "try:\n",
    "    client = Client('localhost:8787')\n",
    "    print('Connecting to existing cluster...')\n",
    "except OSError:\n",
    "    improps.cluster_setup_howto()"
   ]
  },
  {
   "cell_type": "markdown",
   "metadata": {},
   "source": [
    "If we execute the prompt (see below) a local cluster is started, and we only have to execute the cell above  to reconnect to it the next time. If you try to create a new cluster under the same address this will throw an error!"
   ]
  },
  {
   "cell_type": "code",
   "execution_count": 6,
   "metadata": {},
   "outputs": [
    {
     "data": {
      "text/html": [
       "<table style=\"border: 2px solid white;\">\n",
       "<tr>\n",
       "<td style=\"vertical-align: top; border: 0px solid white\">\n",
       "<h3 style=\"text-align: left;\">Client</h3>\n",
       "<ul style=\"text-align: left; list-style: none; margin: 0; padding: 0;\">\n",
       "  <li><b>Scheduler: </b>tcp://127.0.0.1:8787</li>\n",
       "  <li><b>Dashboard: </b><a href='http://127.0.0.1:1234/status' target='_blank'>http://127.0.0.1:1234/status</a>\n",
       "</ul>\n",
       "</td>\n",
       "<td style=\"vertical-align: top; border: 0px solid white\">\n",
       "<h3 style=\"text-align: left;\">Cluster</h3>\n",
       "<ul style=\"text-align: left; list-style:none; margin: 0; padding: 0;\">\n",
       "  <li><b>Workers: </b>3</li>\n",
       "  <li><b>Cores: </b>3</li>\n",
       "  <li><b>Memory: </b>16.80 GB</li>\n",
       "</ul>\n",
       "</td>\n",
       "</tr>\n",
       "</table>"
      ],
      "text/plain": [
       "<Client: 'tcp://127.0.0.1:8787' processes=3 threads=3, memory=16.80 GB>"
      ]
     },
     "execution_count": 6,
     "metadata": {},
     "output_type": "execute_result"
    }
   ],
   "source": [
    "Client(n_workers=max(1,int(0.8 * mp.cpu_count())),\n",
    "       processes=True,\n",
    "       threads_per_worker=1,\n",
    "       scheduler_port=8787,\n",
    "       dashboard_address=\":1234\")"
   ]
  },
  {
   "cell_type": "markdown",
   "metadata": {},
   "source": [
    "### Run improps.main() for all datasets"
   ]
  },
  {
   "cell_type": "code",
   "execution_count": 8,
   "metadata": {},
   "outputs": [
    {
     "name": "stdout",
     "output_type": "stream",
     "text": [
      "Calculating kinetic information ...\n",
      "... in parallel\n",
      "... Computation time 151.8 s\n",
      "Filtering ..(fix)\n",
      "Saving _tprops ...\n",
      "\n",
      "Failed attempts: 0\n"
     ]
    }
   ],
   "source": [
    "failed_path=[]\n",
    "for i in range(0,len(file_names)):\n",
    "    ### Create path\n",
    "    path=os.path.join(dir_names[i],file_names[i])\n",
    "    ### Set paramters for each run\n",
    "    params=params_all.copy()\n",
    "    for key, value in params_special.items():\n",
    "        params[key]=value[i]\n",
    "    \n",
    "    ### Run main function\n",
    "    try:\n",
    "        locs,info=addon_io.load_locs(path)\n",
    "        out=improps.main(locs,info,path,**params)\n",
    "    except Exception:\n",
    "        traceback.print_exc()\n",
    "        failed_path.extend([path])\n",
    "\n",
    "print()    \n",
    "print('Failed attempts: %i'%(len(failed_path)))"
   ]
  },
  {
   "cell_type": "code",
   "execution_count": null,
   "metadata": {},
   "outputs": [],
   "source": []
  }
 ],
 "metadata": {
  "kernelspec": {
   "display_name": "Python 3",
   "language": "python",
   "name": "python3"
  },
  "language_info": {
   "codemirror_mode": {
    "name": "ipython",
    "version": 3
   },
   "file_extension": ".py",
   "mimetype": "text/x-python",
   "name": "python",
   "nbconvert_exporter": "python",
   "pygments_lexer": "ipython3",
   "version": "3.7.6"
  }
 },
 "nbformat": 4,
 "nbformat_minor": 4
}
